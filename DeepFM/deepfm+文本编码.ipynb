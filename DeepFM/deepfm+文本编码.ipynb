{
 "cells": [
  {
   "cell_type": "code",
   "execution_count": 95,
   "source": [
    "import torch\n",
    "import torch.nn as nn\n",
    "import torch.nn.functional as F\n",
    "import torch.optim as optim\n",
    "import torch.utils.data as Data\n",
    "\n",
    "import time, json, datetime \n",
    "from tqdm import tqdm\n",
    "\n",
    "import numpy as np \n",
    "import pandas as pd \n",
    "from sklearn.metrics import log_loss, roc_auc_score\n",
    "from sklearn.model_selection import train_test_split\n",
    "from sklearn.preprocessing import LabelEncoder\n",
    "\n",
    "pd.set_option('display.max_rows', 500)\n",
    "pd.set_option('display.max_columns', 500)"
   ],
   "outputs": [],
   "metadata": {
    "execution": {
     "iopub.execute_input": "2021-07-30T11:40:52.339301Z",
     "iopub.status.busy": "2021-07-30T11:40:52.338712Z",
     "iopub.status.idle": "2021-07-30T11:40:52.347025Z",
     "shell.execute_reply": "2021-07-30T11:40:52.346366Z",
     "shell.execute_reply.started": "2021-07-30T11:40:52.339252Z"
    },
    "tags": []
   }
  },
  {
   "cell_type": "code",
   "execution_count": 83,
   "source": [
    "class DeepFM(nn.Module):\n",
    "    def __init__(self, cate_fea_nuniqs, nume_fea_size=0, emb_size=8, \n",
    "                 hid_dims=[256, 128], num_classes=1, dropout=[0.2, 0.2]): \n",
    "        \"\"\"\n",
    "        cate_fea_nuniqs: 类别特征的唯一值个数列表，也就是每个类别特征的vocab_size所组成的列表\n",
    "        nume_fea_size: 数值特征的个数，该模型会考虑到输入全为类别型，即没有数值特征的情况 \n",
    "        \"\"\"\n",
    "        super().__init__()\n",
    "        self.cate_fea_size = len(cate_fea_nuniqs)\n",
    "        self.nume_fea_size = nume_fea_size\n",
    "        \n",
    "        \"\"\"FM部分\"\"\"\n",
    "        # 一阶\n",
    "        if self.nume_fea_size != 0:\n",
    "            self.fm_1st_order_dense = nn.Linear(self.nume_fea_size, 1)  # 数值特征的一阶表示\n",
    "        self.fm_1st_order_sparse_emb = nn.ModuleList([\n",
    "            nn.Embedding(voc_size, 1) for voc_size in cate_fea_nuniqs])  # 类别特征的一阶表示\n",
    "        \n",
    "        # 二阶\n",
    "        self.fm_2nd_order_sparse_emb = nn.ModuleList([\n",
    "            nn.Embedding(voc_size, emb_size) for voc_size in cate_fea_nuniqs])  # 类别特征的二阶表示\n",
    "        \n",
    "        \"\"\"DNN部分\"\"\"\n",
    "        self.all_dims = [self.cate_fea_size * emb_size] + hid_dims\n",
    "        self.dense_linear = nn.Linear(self.nume_fea_size, self.cate_fea_size * emb_size)  # 数值特征的维度变换到FM输出维度一致\n",
    "        self.relu = nn.ReLU()\n",
    "        # for DNN \n",
    "        for i in range(1, len(self.all_dims)):\n",
    "            setattr(self, 'linear_'+str(i), nn.Linear(self.all_dims[i-1], self.all_dims[i]))\n",
    "            setattr(self, 'batchNorm_' + str(i), nn.BatchNorm1d(self.all_dims[i]))\n",
    "            setattr(self, 'activation_' + str(i), nn.ReLU())\n",
    "            setattr(self, 'dropout_'+str(i), nn.Dropout(dropout[i-1]))\n",
    "        # for output \n",
    "        self.dnn_linear1 = nn.Linear(hid_dims[-1]+2, 10)\n",
    "        self.dnn_linear2 = nn.Linear(hid_dims[-1], 1)\n",
    "        \n",
    "    def forward(self, X_sparse, X_dense=None):\n",
    "        \"\"\"\n",
    "        X_sparse: 类别型特征输入  [bs, cate_fea_size]\n",
    "        X_dense: 数值型特征输入（可能没有）  [bs, dense_fea_size]\n",
    "        \"\"\"\n",
    "        \n",
    "        \"\"\"FM 一阶部分\"\"\"\n",
    "        \n",
    "        print('self.fm_1st_order_sparse_emb', len(self.fm_1st_order_sparse_emb))\n",
    "        \n",
    "        fm_1st_sparse_res = [emb(X_sparse[:, i].unsqueeze(1)).view(-1, 1) \n",
    "                             for i, emb in enumerate(self.fm_1st_order_sparse_emb)]\n",
    "        fm_1st_sparse_res = torch.cat(fm_1st_sparse_res, dim=1)  # [bs, cate_fea_size]\n",
    "        fm_1st_sparse_res = torch.sum(fm_1st_sparse_res, 1,  keepdim=True)  # [bs, 1]\n",
    "        \n",
    "        if X_dense is not None:\n",
    "            fm_1st_dense_res = self.fm_1st_order_dense(X_dense) \n",
    "            fm_1st_part = fm_1st_sparse_res + fm_1st_dense_res\n",
    "        else:\n",
    "            fm_1st_part = fm_1st_sparse_res   # [bs, 1]\n",
    "        \n",
    "        \"\"\"FM 二阶部分\"\"\"\n",
    "        fm_2nd_order_res = [emb(X_sparse[:, i].unsqueeze(1)) for i, emb in enumerate(self.fm_2nd_order_sparse_emb)]\n",
    "        fm_2nd_concat_1d = torch.cat(fm_2nd_order_res, dim=1)  # [bs, n, emb_size]  n为类别型特征个数(cate_fea_size)\n",
    "        \n",
    "        # 先求和再平方\n",
    "        sum_embed = torch.sum(fm_2nd_concat_1d, 1)  # [bs, emb_size]\n",
    "        square_sum_embed = sum_embed * sum_embed    # [bs, emb_size]\n",
    "        # 先平方再求和\n",
    "        square_embed = fm_2nd_concat_1d * fm_2nd_concat_1d  # [bs, n, emb_size]\n",
    "        sum_square_embed = torch.sum(square_embed, 1)  # [bs, emb_size]\n",
    "        # 相减除以2 \n",
    "        sub = square_sum_embed - sum_square_embed  \n",
    "        sub = sub * 0.5   # [bs, emb_size]\n",
    "        \n",
    "        fm_2nd_part = torch.sum(sub, 1, keepdim=True)   # [bs, 1]\n",
    "        \n",
    "        \"\"\"DNN部分\"\"\"\n",
    "        dnn_out = torch.flatten(fm_2nd_concat_1d, 1)   # [bs, n * emb_size]\n",
    "        \n",
    "        if X_dense is not None:\n",
    "            dense_out = self.relu(self.dense_linear(X_dense))   # [bs, n * emb_size]\n",
    "            dnn_out = dnn_out + dense_out   # [bs, n * emb_size]\n",
    "        \n",
    "        for i in range(1, len(self.all_dims)):\n",
    "            dnn_out = getattr(self, 'linear_' + str(i))(dnn_out)\n",
    "            dnn_out = getattr(self, 'batchNorm_' + str(i))(dnn_out)\n",
    "            dnn_out = getattr(self, 'activation_' + str(i))(dnn_out)\n",
    "            dnn_out = getattr(self, 'dropout_' + str(i))(dnn_out)\n",
    "        \n",
    "        out1 = self.dnn_linear1(torch.cat([dnn_out, fm_1st_part, fm_2nd_part],1))   # [bs, N]\n",
    "        # out1 = fm_1st_part + fm_2nd_part + dnn_out   # [bs, 1]\n",
    "         \n",
    "        dnn_out2 = self.dnn_linear2(dnn_out)   # [bs, 1]\n",
    "        out2 = fm_1st_part + fm_2nd_part + dnn_out2   # [bs, 1]\n",
    "        \n",
    "        return out1, out2"
   ],
   "outputs": [],
   "metadata": {
    "execution": {
     "iopub.execute_input": "2021-07-30T07:03:32.664326Z",
     "iopub.status.busy": "2021-07-30T07:03:32.663741Z",
     "iopub.status.idle": "2021-07-30T07:03:32.681683Z",
     "shell.execute_reply": "2021-07-30T07:03:32.681041Z",
     "shell.execute_reply.started": "2021-07-30T07:03:32.664278Z"
    },
    "tags": []
   }
  },
  {
   "cell_type": "code",
   "execution_count": 84,
   "source": [
    "model = DeepFM(cate_fea_nuniqs=[5910798+1, 50355+1,34, 340, 1927],\n",
    "              nume_fea_size=2)"
   ],
   "outputs": [],
   "metadata": {
    "execution": {
     "iopub.execute_input": "2021-07-30T07:03:36.112634Z",
     "iopub.status.busy": "2021-07-30T07:03:36.112035Z",
     "iopub.status.idle": "2021-07-30T07:03:36.552421Z",
     "shell.execute_reply": "2021-07-30T07:03:36.551868Z",
     "shell.execute_reply.started": "2021-07-30T07:03:36.112586Z"
    },
    "tags": []
   }
  },
  {
   "cell_type": "code",
   "execution_count": 45,
   "source": [
    "model"
   ],
   "outputs": [
    {
     "output_type": "execute_result",
     "data": {
      "text/plain": [
       "DeepFM(\n",
       "  (fm_1st_order_dense): Linear(in_features=2, out_features=1, bias=True)\n",
       "  (fm_1st_order_sparse_emb): ModuleList(\n",
       "    (0): Embedding(5910799, 1)\n",
       "    (1): Embedding(50356, 1)\n",
       "    (2): Embedding(34, 1)\n",
       "    (3): Embedding(340, 1)\n",
       "    (4): Embedding(1927, 1)\n",
       "  )\n",
       "  (fm_2nd_order_sparse_emb): ModuleList(\n",
       "    (0): Embedding(5910799, 8)\n",
       "    (1): Embedding(50356, 8)\n",
       "    (2): Embedding(34, 8)\n",
       "    (3): Embedding(340, 8)\n",
       "    (4): Embedding(1927, 8)\n",
       "  )\n",
       "  (dense_linear): Linear(in_features=2, out_features=40, bias=True)\n",
       "  (relu): ReLU()\n",
       "  (linear_1): Linear(in_features=40, out_features=256, bias=True)\n",
       "  (batchNorm_1): BatchNorm1d(256, eps=1e-05, momentum=0.1, affine=True, track_running_stats=True)\n",
       "  (activation_1): ReLU()\n",
       "  (dropout_1): Dropout(p=0.2, inplace=False)\n",
       "  (linear_2): Linear(in_features=256, out_features=128, bias=True)\n",
       "  (batchNorm_2): BatchNorm1d(128, eps=1e-05, momentum=0.1, affine=True, track_running_stats=True)\n",
       "  (activation_2): ReLU()\n",
       "  (dropout_2): Dropout(p=0.2, inplace=False)\n",
       "  (dnn_linear): Linear(in_features=128, out_features=1, bias=True)\n",
       "  (sigmoid): Sigmoid()\n",
       ")"
      ]
     },
     "metadata": {},
     "execution_count": 45
    }
   ],
   "metadata": {
    "execution": {
     "iopub.execute_input": "2021-07-30T06:34:46.118863Z",
     "iopub.status.busy": "2021-07-30T06:34:46.118278Z",
     "iopub.status.idle": "2021-07-30T06:34:46.124049Z",
     "shell.execute_reply": "2021-07-30T06:34:46.123113Z",
     "shell.execute_reply.started": "2021-07-30T06:34:46.118818Z"
    }
   }
  },
  {
   "cell_type": "code",
   "execution_count": 3,
   "source": [
    "import pandas as pd\n",
    "import glob, gc\n",
    "\n",
    "%pylab inline\n",
    "import seaborn as sns\n",
    "\n",
    "INPUT_PATH = './3'"
   ],
   "outputs": [
    {
     "output_type": "stream",
     "name": "stdout",
     "text": [
      "Populating the interactive namespace from numpy and matplotlib\n"
     ]
    }
   ],
   "metadata": {
    "execution": {
     "iopub.execute_input": "2021-07-30T06:10:15.694894Z",
     "iopub.status.busy": "2021-07-30T06:10:15.694309Z",
     "iopub.status.idle": "2021-07-30T06:10:16.037496Z",
     "shell.execute_reply": "2021-07-30T06:10:16.036598Z",
     "shell.execute_reply.started": "2021-07-30T06:10:15.694848Z"
    }
   }
  },
  {
   "cell_type": "code",
   "execution_count": null,
   "source": [
    "test_data = pd.read_hdf('digix-data.hdf', 'test_data')\n",
    "user_features = pd.read_hdf('digix-data.hdf', 'user_features')\n",
    "video_features = pd.read_hdf('digix-data.hdf', 'video_features')\n",
    "history_behavior = pd.read_hdf('digix-data.hdf', 'history_behavior')"
   ],
   "outputs": [],
   "metadata": {
    "execution": {
     "iopub.execute_input": "2021-07-30T11:40:58.013899Z",
     "iopub.status.busy": "2021-07-30T11:40:58.013416Z"
    },
    "tags": []
   }
  },
  {
   "cell_type": "code",
   "execution_count": 5,
   "source": [
    "# history_behavior = history_behavior[history_behavior['user_id'].isin(test_data['user_id'].unique())]\n",
    "val_behavior = history_behavior[history_behavior['pt_d'] == 20210502]\n",
    "train_behavior = history_behavior[history_behavior['pt_d'] != 20210502]"
   ],
   "outputs": [],
   "metadata": {
    "execution": {
     "iopub.execute_input": "2021-07-30T06:11:13.135173Z",
     "iopub.status.busy": "2021-07-30T06:11:13.134573Z",
     "iopub.status.idle": "2021-07-30T06:11:15.459996Z",
     "shell.execute_reply": "2021-07-30T06:11:15.459291Z",
     "shell.execute_reply.started": "2021-07-30T06:11:13.135123Z"
    }
   }
  },
  {
   "cell_type": "code",
   "execution_count": 6,
   "source": [
    "train_behavior = pd.concat([\n",
    "    train_behavior[train_behavior['watch_label'] == 0].sample(1000000),\n",
    "    train_behavior[train_behavior['watch_label'] != 0],\n",
    "])"
   ],
   "outputs": [],
   "metadata": {
    "execution": {
     "iopub.execute_input": "2021-07-30T06:11:18.374879Z",
     "iopub.status.busy": "2021-07-30T06:11:18.374303Z",
     "iopub.status.idle": "2021-07-30T06:11:24.482208Z",
     "shell.execute_reply": "2021-07-30T06:11:24.481656Z",
     "shell.execute_reply.started": "2021-07-30T06:11:18.374830Z"
    }
   }
  },
  {
   "cell_type": "code",
   "execution_count": 7,
   "source": [
    "val_behavior = pd.concat([\n",
    "    val_behavior[val_behavior['watch_label'] == 0].sample(1000000),\n",
    "    val_behavior[val_behavior['watch_label'] != 0],\n",
    "])"
   ],
   "outputs": [],
   "metadata": {
    "execution": {
     "iopub.execute_input": "2021-07-30T06:11:24.837001Z",
     "iopub.status.busy": "2021-07-30T06:11:24.836433Z",
     "iopub.status.idle": "2021-07-30T06:11:25.537313Z",
     "shell.execute_reply": "2021-07-30T06:11:25.536688Z",
     "shell.execute_reply.started": "2021-07-30T06:11:24.836953Z"
    }
   }
  },
  {
   "cell_type": "code",
   "execution_count": 12,
   "source": [
    "user_features = user_features.set_index('user_id')"
   ],
   "outputs": [],
   "metadata": {
    "execution": {
     "iopub.execute_input": "2021-07-30T06:17:48.154885Z",
     "iopub.status.busy": "2021-07-30T06:17:48.154302Z",
     "iopub.status.idle": "2021-07-30T06:17:48.198815Z",
     "shell.execute_reply": "2021-07-30T06:17:48.197686Z",
     "shell.execute_reply.started": "2021-07-30T06:17:48.154838Z"
    }
   }
  },
  {
   "cell_type": "code",
   "execution_count": 13,
   "source": [
    "user_features"
   ],
   "outputs": [
    {
     "output_type": "execute_result",
     "data": {
      "text/plain": [
       "         age  gender  country  province  city  city_level  device_name\n",
       "user_id                                                               \n",
       "1757005    3       1        0         9     6           3          327\n",
       "17938      0       0        0         4    22           3          327\n",
       "4263520    1       0        0        19     1           5          327\n",
       "1411600    3       0        0         5   138           1          327\n",
       "3992242    2       0        0         0   142           0          327\n",
       "...      ...     ...      ...       ...   ...         ...          ...\n",
       "3223427    4       0        0         3     3           3           28\n",
       "4707826    4       0        0        17   249           1           28\n",
       "5907653    0       0        0        11    65           0           28\n",
       "3633224    3       0        0         2    57           1           28\n",
       "782537     3       0        0         0    33           2           28\n",
       "\n",
       "[5910800 rows x 7 columns]"
      ],
      "text/html": [
       "<div>\n",
       "<style scoped>\n",
       "    .dataframe tbody tr th:only-of-type {\n",
       "        vertical-align: middle;\n",
       "    }\n",
       "\n",
       "    .dataframe tbody tr th {\n",
       "        vertical-align: top;\n",
       "    }\n",
       "\n",
       "    .dataframe thead th {\n",
       "        text-align: right;\n",
       "    }\n",
       "</style>\n",
       "<table border=\"1\" class=\"dataframe\">\n",
       "  <thead>\n",
       "    <tr style=\"text-align: right;\">\n",
       "      <th></th>\n",
       "      <th>age</th>\n",
       "      <th>gender</th>\n",
       "      <th>country</th>\n",
       "      <th>province</th>\n",
       "      <th>city</th>\n",
       "      <th>city_level</th>\n",
       "      <th>device_name</th>\n",
       "    </tr>\n",
       "    <tr>\n",
       "      <th>user_id</th>\n",
       "      <th></th>\n",
       "      <th></th>\n",
       "      <th></th>\n",
       "      <th></th>\n",
       "      <th></th>\n",
       "      <th></th>\n",
       "      <th></th>\n",
       "    </tr>\n",
       "  </thead>\n",
       "  <tbody>\n",
       "    <tr>\n",
       "      <th>1757005</th>\n",
       "      <td>3</td>\n",
       "      <td>1</td>\n",
       "      <td>0</td>\n",
       "      <td>9</td>\n",
       "      <td>6</td>\n",
       "      <td>3</td>\n",
       "      <td>327</td>\n",
       "    </tr>\n",
       "    <tr>\n",
       "      <th>17938</th>\n",
       "      <td>0</td>\n",
       "      <td>0</td>\n",
       "      <td>0</td>\n",
       "      <td>4</td>\n",
       "      <td>22</td>\n",
       "      <td>3</td>\n",
       "      <td>327</td>\n",
       "    </tr>\n",
       "    <tr>\n",
       "      <th>4263520</th>\n",
       "      <td>1</td>\n",
       "      <td>0</td>\n",
       "      <td>0</td>\n",
       "      <td>19</td>\n",
       "      <td>1</td>\n",
       "      <td>5</td>\n",
       "      <td>327</td>\n",
       "    </tr>\n",
       "    <tr>\n",
       "      <th>1411600</th>\n",
       "      <td>3</td>\n",
       "      <td>0</td>\n",
       "      <td>0</td>\n",
       "      <td>5</td>\n",
       "      <td>138</td>\n",
       "      <td>1</td>\n",
       "      <td>327</td>\n",
       "    </tr>\n",
       "    <tr>\n",
       "      <th>3992242</th>\n",
       "      <td>2</td>\n",
       "      <td>0</td>\n",
       "      <td>0</td>\n",
       "      <td>0</td>\n",
       "      <td>142</td>\n",
       "      <td>0</td>\n",
       "      <td>327</td>\n",
       "    </tr>\n",
       "    <tr>\n",
       "      <th>...</th>\n",
       "      <td>...</td>\n",
       "      <td>...</td>\n",
       "      <td>...</td>\n",
       "      <td>...</td>\n",
       "      <td>...</td>\n",
       "      <td>...</td>\n",
       "      <td>...</td>\n",
       "    </tr>\n",
       "    <tr>\n",
       "      <th>3223427</th>\n",
       "      <td>4</td>\n",
       "      <td>0</td>\n",
       "      <td>0</td>\n",
       "      <td>3</td>\n",
       "      <td>3</td>\n",
       "      <td>3</td>\n",
       "      <td>28</td>\n",
       "    </tr>\n",
       "    <tr>\n",
       "      <th>4707826</th>\n",
       "      <td>4</td>\n",
       "      <td>0</td>\n",
       "      <td>0</td>\n",
       "      <td>17</td>\n",
       "      <td>249</td>\n",
       "      <td>1</td>\n",
       "      <td>28</td>\n",
       "    </tr>\n",
       "    <tr>\n",
       "      <th>5907653</th>\n",
       "      <td>0</td>\n",
       "      <td>0</td>\n",
       "      <td>0</td>\n",
       "      <td>11</td>\n",
       "      <td>65</td>\n",
       "      <td>0</td>\n",
       "      <td>28</td>\n",
       "    </tr>\n",
       "    <tr>\n",
       "      <th>3633224</th>\n",
       "      <td>3</td>\n",
       "      <td>0</td>\n",
       "      <td>0</td>\n",
       "      <td>2</td>\n",
       "      <td>57</td>\n",
       "      <td>1</td>\n",
       "      <td>28</td>\n",
       "    </tr>\n",
       "    <tr>\n",
       "      <th>782537</th>\n",
       "      <td>3</td>\n",
       "      <td>0</td>\n",
       "      <td>0</td>\n",
       "      <td>0</td>\n",
       "      <td>33</td>\n",
       "      <td>2</td>\n",
       "      <td>28</td>\n",
       "    </tr>\n",
       "  </tbody>\n",
       "</table>\n",
       "<p>5910800 rows × 7 columns</p>\n",
       "</div>"
      ]
     },
     "metadata": {},
     "execution_count": 13
    }
   ],
   "metadata": {
    "execution": {
     "iopub.execute_input": "2021-07-30T06:18:00.080780Z",
     "iopub.status.busy": "2021-07-30T06:18:00.080195Z",
     "iopub.status.idle": "2021-07-30T06:18:00.094880Z",
     "shell.execute_reply": "2021-07-30T06:18:00.094310Z",
     "shell.execute_reply.started": "2021-07-30T06:18:00.080732Z"
    }
   }
  },
  {
   "cell_type": "code",
   "execution_count": 25,
   "source": [
    "import torch\n",
    "import torch.nn.functional as F\n",
    "from torch.autograd import Variable\n",
    "from torch import nn\n",
    "from torch.utils.data import Dataset, DataLoader\n",
    "torch.manual_seed(0)\n",
    "\n",
    "class MLPDataset(Dataset):\n",
    "    def __init__(self, history_behavior, train=True):\n",
    "        self.history_behavior = history_behavior\n",
    "        self.train = train\n",
    "        \n",
    "    def __getitem__(self, index):\n",
    "        user_id = self.history_behavior.iloc[index]['user_id']\n",
    "        video_id = self.history_behavior.iloc[index]['video_id']\n",
    "        \n",
    "        feed_dict = {\n",
    "            'user_id': user_id,\n",
    "            'video_id': video_id,\n",
    "            'user_province': user_features.loc[user_id]['province'],\n",
    "            'user_city': user_features.loc[user_id]['city'],\n",
    "            'user_device': user_features.loc[user_id]['device_name'],\n",
    "            'user_age': user_features.loc[user_id]['age'],\n",
    "            'city_level': user_features.loc[user_id]['city_level'],\n",
    "        }\n",
    "        \n",
    "        if self.train:\n",
    "            watch_label = self.history_behavior.iloc[index]['watch_label']\n",
    "            share_label = self.history_behavior.iloc[index]['is_share']\n",
    "\n",
    "            feed_dict['watch_label'] = watch_label\n",
    "            feed_dict['share_label'] = share_label\n",
    "            \n",
    "            return feed_dict\n",
    "            \n",
    "#             return user_id, video_id, \\\n",
    "#                 torch.from_numpy(np.array(watch_label)), \\\n",
    "#                 torch.from_numpy(np.array([share_label]))\n",
    "        else:\n",
    "            return feed_dict\n",
    "        \n",
    "    def __len__(self):\n",
    "        return len(self.history_behavior)\n",
    "    \n",
    "train_loader = torch.utils.data.DataLoader(\n",
    "    dataset = MLPDataset(train_behavior),\n",
    "    batch_size=100, shuffle=True, num_workers=5,\n",
    ")\n",
    "\n",
    "# batch_size 1000\n",
    "\n",
    "val_loader = torch.utils.data.DataLoader(\n",
    "    dataset = MLPDataset(val_behavior, train=True),\n",
    "    batch_size=200, shuffle=False, num_workers=5,\n",
    ")"
   ],
   "outputs": [],
   "metadata": {
    "execution": {
     "iopub.execute_input": "2021-07-30T06:26:26.324161Z",
     "iopub.status.busy": "2021-07-30T06:26:26.323558Z",
     "iopub.status.idle": "2021-07-30T06:26:26.337433Z",
     "shell.execute_reply": "2021-07-30T06:26:26.336703Z",
     "shell.execute_reply.started": "2021-07-30T06:26:26.324113Z"
    },
    "tags": []
   }
  },
  {
   "cell_type": "code",
   "execution_count": 26,
   "source": [
    "for data in train_loader:\n",
    "    break"
   ],
   "outputs": [],
   "metadata": {
    "execution": {
     "iopub.execute_input": "2021-07-30T06:26:29.195945Z",
     "iopub.status.busy": "2021-07-30T06:26:29.195436Z",
     "iopub.status.idle": "2021-07-30T06:26:30.230509Z",
     "shell.execute_reply": "2021-07-30T06:26:30.229772Z",
     "shell.execute_reply.started": "2021-07-30T06:26:29.195909Z"
    },
    "tags": []
   }
  },
  {
   "cell_type": "code",
   "execution_count": 28,
   "source": [
    "data.keys()"
   ],
   "outputs": [
    {
     "output_type": "execute_result",
     "data": {
      "text/plain": [
       "dict_keys(['user_id', 'video_id', 'user_province', 'user_city', 'user_device', 'user_age', 'city_level', 'watch_label', 'share_label'])"
      ]
     },
     "metadata": {},
     "execution_count": 28
    }
   ],
   "metadata": {
    "execution": {
     "iopub.execute_input": "2021-07-30T06:28:55.205248Z",
     "iopub.status.busy": "2021-07-30T06:28:55.204772Z",
     "iopub.status.idle": "2021-07-30T06:28:55.211015Z",
     "shell.execute_reply": "2021-07-30T06:28:55.210215Z",
     "shell.execute_reply.started": "2021-07-30T06:28:55.205210Z"
    },
    "tags": []
   }
  },
  {
   "cell_type": "code",
   "execution_count": 53,
   "source": [
    "sparse_feat = torch.stack([data[x].long() \n",
    "                for x in ['user_id', 'video_id', 'user_province', \n",
    "                          'user_city', 'user_device']]).T\n",
    "\n",
    "dense_feat = torch.stack([data[x].float() for x in ['user_age', 'city_level']]).T"
   ],
   "outputs": [],
   "metadata": {
    "execution": {
     "iopub.execute_input": "2021-07-30T06:39:39.961513Z",
     "iopub.status.busy": "2021-07-30T06:39:39.960929Z",
     "iopub.status.idle": "2021-07-30T06:39:39.969242Z",
     "shell.execute_reply": "2021-07-30T06:39:39.968151Z",
     "shell.execute_reply.started": "2021-07-30T06:39:39.961464Z"
    },
    "tags": []
   }
  },
  {
   "cell_type": "code",
   "execution_count": 85,
   "source": [
    "model(sparse_feat, dense_feat)[0].shape"
   ],
   "outputs": [
    {
     "output_type": "stream",
     "name": "stdout",
     "text": [
      "self.fm_1st_order_sparse_emb 5\n"
     ]
    },
    {
     "output_type": "execute_result",
     "data": {
      "text/plain": [
       "torch.Size([100, 10])"
      ]
     },
     "metadata": {},
     "execution_count": 85
    }
   ],
   "metadata": {
    "execution": {
     "iopub.execute_input": "2021-07-30T07:03:40.177797Z",
     "iopub.status.busy": "2021-07-30T07:03:40.177214Z",
     "iopub.status.idle": "2021-07-30T07:03:40.190300Z",
     "shell.execute_reply": "2021-07-30T07:03:40.188982Z",
     "shell.execute_reply.started": "2021-07-30T07:03:40.177748Z"
    },
    "tags": []
   }
  },
  {
   "cell_type": "code",
   "execution_count": 86,
   "source": [
    "model(sparse_feat, dense_feat)[1].shape"
   ],
   "outputs": [
    {
     "output_type": "stream",
     "name": "stdout",
     "text": [
      "self.fm_1st_order_sparse_emb 5\n"
     ]
    },
    {
     "output_type": "execute_result",
     "data": {
      "text/plain": [
       "torch.Size([100, 1])"
      ]
     },
     "metadata": {},
     "execution_count": 86
    }
   ],
   "metadata": {
    "execution": {
     "iopub.execute_input": "2021-07-30T07:03:40.962721Z",
     "iopub.status.busy": "2021-07-30T07:03:40.962155Z",
     "iopub.status.idle": "2021-07-30T07:03:40.973950Z",
     "shell.execute_reply": "2021-07-30T07:03:40.973275Z",
     "shell.execute_reply.started": "2021-07-30T07:03:40.962674Z"
    },
    "tags": []
   }
  },
  {
   "cell_type": "code",
   "execution_count": 98,
   "source": [
    "video_features"
   ],
   "outputs": [
    {
     "output_type": "execute_result",
     "data": {
      "text/plain": [
       "       video_id video_name                               video_tags  \\\n",
       "0          3460       脱皮爸爸                             院线电影,家庭关系,命运   \n",
       "1         14553    喜气洋洋小金莲              古装喜剧,剧情片,喜剧片,内地电影,欢乐喜剧,爱情纠纷   \n",
       "2          1214       风流家族                        男女关系,家庭关系,命运,院线电影   \n",
       "3         30639     大提琴的故事                                   短片,动画片   \n",
       "4         38522    歌舞大王齐格飞                            喜剧片,人物传记,浪漫爱情   \n",
       "...         ...        ...                                      ...   \n",
       "49726     36024     跆拳震九州岛                                  动作片,战争片   \n",
       "49727     11306       小豹杜玛                     境外院线,冒险,家庭,人与动物,南非草原   \n",
       "49728     16178         父子                             家庭关系,人际关系,命运   \n",
       "49729      5337         泪痕  院线电影,矛盾冲突,冲破万难,人性,人际关系,家庭关系,阴谋,挽救局面,恶势力   \n",
       "49730     11189         一哥                                      国庆档   \n",
       "\n",
       "                                       video_description video_release_date  \\\n",
       "0      中年失意的儿子田力行（古天乐饰）在生活上遇到了重重危机：母亲病逝,工作不顺,妻子要求离婚。正...         2017-04-27   \n",
       "1      故事始于西门庆为西门药业的“伟哥”产品寻找代言人，西门庆初见潘金莲，一时惊为天人，为成功抱得...         2015-12-30   \n",
       "2      香世仁（钟镇涛 饰）是家财万贯的香港富豪，在满足了一切物质上的要求后，他将生活的重心放在了儿...         2002-03-07   \n",
       "3      低音大提琴演奏家史密斯科夫正要去参加某贵族的沙龙，途中他被河边的美丽景色所吸引，驻足观看。兴...         1949-01-01   \n",
       "4      罗伯特．Z．伦纳德导演的这部影片以百老汇最大的歌舞团——齐格菲歌舞团的创办人佛罗伦斯．齐格菲...         1936-04-08   \n",
       "...                                                  ...                ...   \n",
       "49726  日本占领韩国时期，日军为镇压反抗志士，设特务机关，汉城“横山道馆”亦属其行列。跆拳道首徒金正...         1973-09-12   \n",
       "49727  广袤野性的南非草原。入夜，一只迷路的印度豹幼崽跌跌撞撞地闯进高速公路。幸运的是，彼得（坎贝尔...         2005-04-22   \n",
       "49728  在马来西亚的一个华人社区里，伴随着一串年轻稚嫩的歌声，小男孩阿宝梦见爸爸骑着自行车载着他穿过...         2006-11-30   \n",
       "49729  “四人帮”被打倒后，朱克实（李仁堂 饰）受上级指派，作为金县的县委书记走马上任。此前该县书记...         1979-01-01   \n",
       "49730  史毕堡（万梓良 饰）是个绝世桥王，好友高达威（苗侨伟 饰）却是个有勇无谋的CID。高达威发现...         1987-10-01   \n",
       "\n",
       "                     video_director_list  \\\n",
       "0                                   司徒慧焯   \n",
       "1                                杨珊珊,李亚玲   \n",
       "2                                邱礼涛,杨漪珊   \n",
       "3                             伊里·特恩卡,契诃夫   \n",
       "4      罗伯特·Z·伦纳德,William Anthony McGuire   \n",
       "...                                  ...   \n",
       "49726                                 黄枫   \n",
       "49727                           拉罗尔·巴尔兰德   \n",
       "49728                            谭家明,田开良   \n",
       "49729                          李文化,马烽,孙谦   \n",
       "49730                            范秀明,梁鸿华   \n",
       "\n",
       "                                        video_actor_list  video_score  \\\n",
       "0                                          吴镇宇,古天乐,春夏,蔡洁     7.398438   \n",
       "1                                     陈南飞,程隆妮,王闯,贾海涛,闫薇儿     5.601562   \n",
       "2      张家辉,卢巧音,钟镇涛,叶童,李蕙敏,张坚庭,袁洁莹,黄佩霞,齐芷瑶,刘以达,叶伟信,邹凯光...     6.800781   \n",
       "3                                                    NaN          NaN   \n",
       "4      威廉·鲍威尔,玛娜·洛伊,路易丝·赖纳,弗兰克·摩根,范妮·布莱斯,弗吉尼亚·布鲁斯,雷吉纳...     7.699219   \n",
       "...                                                  ...          ...   \n",
       "49726                          茅瑛,黄家达,黄仁植,安德鲁·摩根,陈会毅,金琪珠     6.898438   \n",
       "49727  Alex Michaeletos,坎贝尔·斯科特,霍普·戴维斯,伊默恩·沃克,Mary Ma...     8.898438   \n",
       "49728                                    郭富城,吴澋滔,杨采妮,林熙蕾     8.000000   \n",
       "49729                        李仁堂,谢芳,杨威,邵万林,方辉,许福印,茂路,侯冠群     7.898438   \n",
       "49730                                    万梓良,朱宝意,任达华,苗侨伟     7.101562   \n",
       "\n",
       "      video_second_class  video_duration  \n",
       "0               剧情,喜剧,奇幻            5913  \n",
       "1                     喜剧            6217  \n",
       "2            都市,喜剧,爱情,家庭            5963  \n",
       "3                  动画,爱情           17371  \n",
       "4               剧情,歌舞,喜剧           10608  \n",
       "...                  ...             ...  \n",
       "49726           剧情,动作,战争            5736  \n",
       "49727        剧情,冒险,家庭,儿童            6034  \n",
       "49728              剧情,家庭            6918  \n",
       "49729                 剧情            6885  \n",
       "49730              动作,剧情            5175  \n",
       "\n",
       "[49731 rows x 10 columns]"
      ],
      "text/html": [
       "<div>\n",
       "<style scoped>\n",
       "    .dataframe tbody tr th:only-of-type {\n",
       "        vertical-align: middle;\n",
       "    }\n",
       "\n",
       "    .dataframe tbody tr th {\n",
       "        vertical-align: top;\n",
       "    }\n",
       "\n",
       "    .dataframe thead th {\n",
       "        text-align: right;\n",
       "    }\n",
       "</style>\n",
       "<table border=\"1\" class=\"dataframe\">\n",
       "  <thead>\n",
       "    <tr style=\"text-align: right;\">\n",
       "      <th></th>\n",
       "      <th>video_id</th>\n",
       "      <th>video_name</th>\n",
       "      <th>video_tags</th>\n",
       "      <th>video_description</th>\n",
       "      <th>video_release_date</th>\n",
       "      <th>video_director_list</th>\n",
       "      <th>video_actor_list</th>\n",
       "      <th>video_score</th>\n",
       "      <th>video_second_class</th>\n",
       "      <th>video_duration</th>\n",
       "    </tr>\n",
       "  </thead>\n",
       "  <tbody>\n",
       "    <tr>\n",
       "      <th>0</th>\n",
       "      <td>3460</td>\n",
       "      <td>脱皮爸爸</td>\n",
       "      <td>院线电影,家庭关系,命运</td>\n",
       "      <td>中年失意的儿子田力行（古天乐饰）在生活上遇到了重重危机：母亲病逝,工作不顺,妻子要求离婚。正...</td>\n",
       "      <td>2017-04-27</td>\n",
       "      <td>司徒慧焯</td>\n",
       "      <td>吴镇宇,古天乐,春夏,蔡洁</td>\n",
       "      <td>7.398438</td>\n",
       "      <td>剧情,喜剧,奇幻</td>\n",
       "      <td>5913</td>\n",
       "    </tr>\n",
       "    <tr>\n",
       "      <th>1</th>\n",
       "      <td>14553</td>\n",
       "      <td>喜气洋洋小金莲</td>\n",
       "      <td>古装喜剧,剧情片,喜剧片,内地电影,欢乐喜剧,爱情纠纷</td>\n",
       "      <td>故事始于西门庆为西门药业的“伟哥”产品寻找代言人，西门庆初见潘金莲，一时惊为天人，为成功抱得...</td>\n",
       "      <td>2015-12-30</td>\n",
       "      <td>杨珊珊,李亚玲</td>\n",
       "      <td>陈南飞,程隆妮,王闯,贾海涛,闫薇儿</td>\n",
       "      <td>5.601562</td>\n",
       "      <td>喜剧</td>\n",
       "      <td>6217</td>\n",
       "    </tr>\n",
       "    <tr>\n",
       "      <th>2</th>\n",
       "      <td>1214</td>\n",
       "      <td>风流家族</td>\n",
       "      <td>男女关系,家庭关系,命运,院线电影</td>\n",
       "      <td>香世仁（钟镇涛 饰）是家财万贯的香港富豪，在满足了一切物质上的要求后，他将生活的重心放在了儿...</td>\n",
       "      <td>2002-03-07</td>\n",
       "      <td>邱礼涛,杨漪珊</td>\n",
       "      <td>张家辉,卢巧音,钟镇涛,叶童,李蕙敏,张坚庭,袁洁莹,黄佩霞,齐芷瑶,刘以达,叶伟信,邹凯光...</td>\n",
       "      <td>6.800781</td>\n",
       "      <td>都市,喜剧,爱情,家庭</td>\n",
       "      <td>5963</td>\n",
       "    </tr>\n",
       "    <tr>\n",
       "      <th>3</th>\n",
       "      <td>30639</td>\n",
       "      <td>大提琴的故事</td>\n",
       "      <td>短片,动画片</td>\n",
       "      <td>低音大提琴演奏家史密斯科夫正要去参加某贵族的沙龙，途中他被河边的美丽景色所吸引，驻足观看。兴...</td>\n",
       "      <td>1949-01-01</td>\n",
       "      <td>伊里·特恩卡,契诃夫</td>\n",
       "      <td>NaN</td>\n",
       "      <td>NaN</td>\n",
       "      <td>动画,爱情</td>\n",
       "      <td>17371</td>\n",
       "    </tr>\n",
       "    <tr>\n",
       "      <th>4</th>\n",
       "      <td>38522</td>\n",
       "      <td>歌舞大王齐格飞</td>\n",
       "      <td>喜剧片,人物传记,浪漫爱情</td>\n",
       "      <td>罗伯特．Z．伦纳德导演的这部影片以百老汇最大的歌舞团——齐格菲歌舞团的创办人佛罗伦斯．齐格菲...</td>\n",
       "      <td>1936-04-08</td>\n",
       "      <td>罗伯特·Z·伦纳德,William Anthony McGuire</td>\n",
       "      <td>威廉·鲍威尔,玛娜·洛伊,路易丝·赖纳,弗兰克·摩根,范妮·布莱斯,弗吉尼亚·布鲁斯,雷吉纳...</td>\n",
       "      <td>7.699219</td>\n",
       "      <td>剧情,歌舞,喜剧</td>\n",
       "      <td>10608</td>\n",
       "    </tr>\n",
       "    <tr>\n",
       "      <th>...</th>\n",
       "      <td>...</td>\n",
       "      <td>...</td>\n",
       "      <td>...</td>\n",
       "      <td>...</td>\n",
       "      <td>...</td>\n",
       "      <td>...</td>\n",
       "      <td>...</td>\n",
       "      <td>...</td>\n",
       "      <td>...</td>\n",
       "      <td>...</td>\n",
       "    </tr>\n",
       "    <tr>\n",
       "      <th>49726</th>\n",
       "      <td>36024</td>\n",
       "      <td>跆拳震九州岛</td>\n",
       "      <td>动作片,战争片</td>\n",
       "      <td>日本占领韩国时期，日军为镇压反抗志士，设特务机关，汉城“横山道馆”亦属其行列。跆拳道首徒金正...</td>\n",
       "      <td>1973-09-12</td>\n",
       "      <td>黄枫</td>\n",
       "      <td>茅瑛,黄家达,黄仁植,安德鲁·摩根,陈会毅,金琪珠</td>\n",
       "      <td>6.898438</td>\n",
       "      <td>剧情,动作,战争</td>\n",
       "      <td>5736</td>\n",
       "    </tr>\n",
       "    <tr>\n",
       "      <th>49727</th>\n",
       "      <td>11306</td>\n",
       "      <td>小豹杜玛</td>\n",
       "      <td>境外院线,冒险,家庭,人与动物,南非草原</td>\n",
       "      <td>广袤野性的南非草原。入夜，一只迷路的印度豹幼崽跌跌撞撞地闯进高速公路。幸运的是，彼得（坎贝尔...</td>\n",
       "      <td>2005-04-22</td>\n",
       "      <td>拉罗尔·巴尔兰德</td>\n",
       "      <td>Alex Michaeletos,坎贝尔·斯科特,霍普·戴维斯,伊默恩·沃克,Mary Ma...</td>\n",
       "      <td>8.898438</td>\n",
       "      <td>剧情,冒险,家庭,儿童</td>\n",
       "      <td>6034</td>\n",
       "    </tr>\n",
       "    <tr>\n",
       "      <th>49728</th>\n",
       "      <td>16178</td>\n",
       "      <td>父子</td>\n",
       "      <td>家庭关系,人际关系,命运</td>\n",
       "      <td>在马来西亚的一个华人社区里，伴随着一串年轻稚嫩的歌声，小男孩阿宝梦见爸爸骑着自行车载着他穿过...</td>\n",
       "      <td>2006-11-30</td>\n",
       "      <td>谭家明,田开良</td>\n",
       "      <td>郭富城,吴澋滔,杨采妮,林熙蕾</td>\n",
       "      <td>8.000000</td>\n",
       "      <td>剧情,家庭</td>\n",
       "      <td>6918</td>\n",
       "    </tr>\n",
       "    <tr>\n",
       "      <th>49729</th>\n",
       "      <td>5337</td>\n",
       "      <td>泪痕</td>\n",
       "      <td>院线电影,矛盾冲突,冲破万难,人性,人际关系,家庭关系,阴谋,挽救局面,恶势力</td>\n",
       "      <td>“四人帮”被打倒后，朱克实（李仁堂 饰）受上级指派，作为金县的县委书记走马上任。此前该县书记...</td>\n",
       "      <td>1979-01-01</td>\n",
       "      <td>李文化,马烽,孙谦</td>\n",
       "      <td>李仁堂,谢芳,杨威,邵万林,方辉,许福印,茂路,侯冠群</td>\n",
       "      <td>7.898438</td>\n",
       "      <td>剧情</td>\n",
       "      <td>6885</td>\n",
       "    </tr>\n",
       "    <tr>\n",
       "      <th>49730</th>\n",
       "      <td>11189</td>\n",
       "      <td>一哥</td>\n",
       "      <td>国庆档</td>\n",
       "      <td>史毕堡（万梓良 饰）是个绝世桥王，好友高达威（苗侨伟 饰）却是个有勇无谋的CID。高达威发现...</td>\n",
       "      <td>1987-10-01</td>\n",
       "      <td>范秀明,梁鸿华</td>\n",
       "      <td>万梓良,朱宝意,任达华,苗侨伟</td>\n",
       "      <td>7.101562</td>\n",
       "      <td>动作,剧情</td>\n",
       "      <td>5175</td>\n",
       "    </tr>\n",
       "  </tbody>\n",
       "</table>\n",
       "<p>49731 rows × 10 columns</p>\n",
       "</div>"
      ]
     },
     "metadata": {},
     "execution_count": 98
    }
   ],
   "metadata": {
    "execution": {
     "iopub.execute_input": "2021-07-30T12:50:13.181834Z",
     "iopub.status.busy": "2021-07-30T12:50:13.181255Z",
     "iopub.status.idle": "2021-07-30T12:50:13.198154Z",
     "shell.execute_reply": "2021-07-30T12:50:13.197577Z",
     "shell.execute_reply.started": "2021-07-30T12:50:13.181785Z"
    }
   }
  },
  {
   "cell_type": "code",
   "execution_count": 90,
   "source": [
    "import numpy as np\n",
    "import pandas as pd \n",
    "from gensim import models\n",
    "\n",
    "def to_text_vector(txt, model):\n",
    "    '''\n",
    "        将文本txt转化为文本向量\n",
    "    '''\n",
    "    words = txt.split(',') \n",
    "    array = np.asarray([model.wv[w] for w in words if w in words],dtype='float32') \n",
    "    return array.mean(axis=0)\n",
    "\n",
    "## 案例\n",
    "sentences = [\"1,2,3\",'3,4,1','1,4,2']\n",
    "model = models.Word2Vec(sentences, workers=8, size=20, min_count = 1, window = 2)\n",
    "to_text_vector(txt=\"1,2,3\", model= model)"
   ],
   "outputs": [
    {
     "output_type": "execute_result",
     "data": {
      "text/plain": [
       "array([ 5.2690147e-03, -1.8744482e-02, -3.9180042e-03, -3.1476885e-03,\n",
       "       -4.5331237e-03, -1.0070135e-02, -4.8246565e-03, -1.4685404e-04,\n",
       "        1.5172020e-02,  2.6108501e-03, -6.7785494e-03,  1.1122740e-02,\n",
       "        1.0333024e-03, -3.7350107e-03, -3.3984147e-04,  2.9818466e-05,\n",
       "       -1.7731095e-03,  1.9154087e-02,  7.0528746e-05, -1.8537654e-02],\n",
       "      dtype=float32)"
      ]
     },
     "metadata": {},
     "execution_count": 90
    }
   ],
   "metadata": {
    "execution": {
     "iopub.execute_input": "2021-07-30T11:38:57.922580Z",
     "iopub.status.busy": "2021-07-30T11:38:57.921980Z",
     "iopub.status.idle": "2021-07-30T11:38:57.947869Z",
     "shell.execute_reply": "2021-07-30T11:38:57.947429Z",
     "shell.execute_reply.started": "2021-07-30T11:38:57.922530Z"
    },
    "tags": []
   }
  },
  {
   "cell_type": "code",
   "execution_count": 93,
   "source": [
    "from sklearn.feature_extraction.text import CountVectorizer\n",
    "corpus = [\n",
    "    'This is the first document.',\n",
    "    'This document is the second document.',\n",
    "    'And this is the third one.',\n",
    "    'Is this the first document?',]\n",
    "\n",
    "vectorizer = CountVectorizer()\n",
    "X = vectorizer.fit_transform(corpus)\n",
    "X.toarray()"
   ],
   "outputs": [
    {
     "output_type": "execute_result",
     "data": {
      "text/plain": [
       "array([[0, 1, 1, 1, 0, 0, 1, 0, 1],\n",
       "       [0, 2, 0, 1, 0, 1, 1, 0, 1],\n",
       "       [1, 0, 0, 1, 1, 0, 1, 1, 1],\n",
       "       [0, 1, 1, 1, 0, 0, 1, 0, 1]])"
      ]
     },
     "metadata": {},
     "execution_count": 93
    }
   ],
   "metadata": {
    "execution": {
     "iopub.execute_input": "2021-07-30T11:40:34.150764Z",
     "iopub.status.busy": "2021-07-30T11:40:34.150185Z",
     "iopub.status.idle": "2021-07-30T11:40:34.160614Z",
     "shell.execute_reply": "2021-07-30T11:40:34.160004Z",
     "shell.execute_reply.started": "2021-07-30T11:40:34.150717Z"
    },
    "tags": []
   }
  },
  {
   "cell_type": "code",
   "execution_count": 94,
   "source": [
    "from sklearn.feature_extraction.text import TfidfVectorizer\n",
    "corpus = [\n",
    "    'This is the first document.',\n",
    "    'This document is the second document.',\n",
    "    'And this is the third one.',\n",
    "    'Is this the first document?',]\n",
    "\n",
    "vectorizer = TfidfVectorizer()\n",
    "X = vectorizer.fit_transform(corpus)\n",
    "X.toarray()"
   ],
   "outputs": [
    {
     "output_type": "execute_result",
     "data": {
      "text/plain": [
       "array([[0.        , 0.46979139, 0.58028582, 0.38408524, 0.        ,\n",
       "        0.        , 0.38408524, 0.        , 0.38408524],\n",
       "       [0.        , 0.6876236 , 0.        , 0.28108867, 0.        ,\n",
       "        0.53864762, 0.28108867, 0.        , 0.28108867],\n",
       "       [0.51184851, 0.        , 0.        , 0.26710379, 0.51184851,\n",
       "        0.        , 0.26710379, 0.51184851, 0.26710379],\n",
       "       [0.        , 0.46979139, 0.58028582, 0.38408524, 0.        ,\n",
       "        0.        , 0.38408524, 0.        , 0.38408524]])"
      ]
     },
     "metadata": {},
     "execution_count": 94
    }
   ],
   "metadata": {
    "execution": {
     "iopub.execute_input": "2021-07-30T11:40:48.450737Z",
     "iopub.status.busy": "2021-07-30T11:40:48.450156Z",
     "iopub.status.idle": "2021-07-30T11:40:48.480786Z",
     "shell.execute_reply": "2021-07-30T11:40:48.479554Z",
     "shell.execute_reply.started": "2021-07-30T11:40:48.450689Z"
    }
   }
  },
  {
   "cell_type": "code",
   "execution_count": null,
   "source": [],
   "outputs": [],
   "metadata": {}
  }
 ],
 "metadata": {
  "kernelspec": {
   "display_name": "Python 3",
   "language": "python",
   "name": "python3"
  },
  "language_info": {
   "codemirror_mode": {
    "name": "ipython",
    "version": 3
   },
   "file_extension": ".py",
   "mimetype": "text/x-python",
   "name": "python",
   "nbconvert_exporter": "python",
   "pygments_lexer": "ipython3",
   "version": "3.6.9"
  }
 },
 "nbformat": 4,
 "nbformat_minor": 4
}